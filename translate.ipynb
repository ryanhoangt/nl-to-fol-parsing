{
 "cells": [
  {
   "cell_type": "markdown",
   "metadata": {},
   "source": [
    "# NL to FOL Translation with Llama 3.1\n",
    "\n",
    "For this experiment, we will use the [llama 3.1 70b](https://huggingface.co/meta-llama/Meta-Llama-3.1-70B) model, hosted on [NVIDIA NIM](https://build.nvidia.com/explore/discover), to run inference on the dataset. "
   ]
  },
  {
   "cell_type": "markdown",
   "metadata": {},
   "source": [
    "## 0. Setup"
   ]
  },
  {
   "cell_type": "code",
   "execution_count": 1,
   "metadata": {},
   "outputs": [],
   "source": [
    "import openai\n",
    "from openai import OpenAI\n",
    "from IPython.display import Markdown\n",
    "\n",
    "from prompt import PromptTemplate, TRANSLATE_TEMPLATE_V1, TRANSLATE_EXAMPLES_V1"
   ]
  },
  {
   "cell_type": "code",
   "execution_count": 10,
   "metadata": {},
   "outputs": [],
   "source": [
    "# Load environment variables\n",
    "import os\n",
    "from dotenv import load_dotenv\n",
    "load_dotenv()\n",
    "\n",
    "NVIDIA_API_KEY = os.environ.get(\"NVIDIA_API_KEY\")"
   ]
  },
  {
   "cell_type": "markdown",
   "metadata": {},
   "source": [
    "## 1. Test on a single instance"
   ]
  },
  {
   "cell_type": "code",
   "execution_count": 3,
   "metadata": {},
   "outputs": [],
   "source": [
    "nl_str = '''\n",
    "Chào PĐT, Em là Nguyễn Văn An, đang học khoa KH&KTMT, khóa 2023. Em nhận được cảnh cáo học vụ ở HK232 này, nhưng nhưng do học kỳ này em bận tham dự hoạt động tình nguyện Chiến dịch Xanh của Đoàn hội cấp tỉnh TP nên lơ là trong việc học tập (em có đính kèm minh chứng). Em muốn hỏi là liệu nhà trường có thể xem xét cho em trong trường hợp này được không? Em cảm ơn rất nhiều.\n",
    "'''\n",
    "\n",
    "existing_predicates_arr = [\n",
    "    'FromFaculty(x,y)',\n",
    "    'StartsYear(x,y)',\n",
    "    'HasReceived(x,y)',\n",
    "    'ReceivedWarningInSemester(x,y)',\n",
    "    'ParticipatedIn(x,y)',\n",
    "    'OrganizedBy(x,y)',\n",
    "]\n",
    "existing_predicates_str = '- ' + '\\n- '.join(existing_predicates_arr)"
   ]
  },
  {
   "cell_type": "code",
   "execution_count": 4,
   "metadata": {},
   "outputs": [
    {
     "name": "stdout",
     "output_type": "stream",
     "text": [
      "\n",
      "Chào PĐT, Em là Nguyễn Văn An, đang học khoa KH&KTMT, khóa 2023. Em nhận được cảnh cáo học vụ ở HK232 này, nhưng nhưng do học kỳ này em bận tham dự hoạt động tình nguyện Chiến dịch Xanh của Đoàn hội cấp tỉnh TP nên lơ là trong việc học tập (em có đính kèm minh chứng). Em muốn hỏi là liệu nhà trường có thể xem xét cho em trong trường hợp này được không? Em cảm ơn rất nhiều.\n",
      "\n",
      "- FromFaculty(x,y)\n",
      "- StartsYear(x,y)\n",
      "- HasReceived(x,y)\n",
      "- ReceivedWarningInSemester(x,y)\n",
      "- ParticipatedIn(x,y)\n",
      "- OrganizedBy(x,y)\n"
     ]
    }
   ],
   "source": [
    "print(nl_str)\n",
    "print(existing_predicates_str)"
   ]
  },
  {
   "cell_type": "code",
   "execution_count": 5,
   "metadata": {},
   "outputs": [],
   "source": [
    "prompt_template = PromptTemplate(TRANSLATE_TEMPLATE_V1)\n",
    "prompt = prompt_template(\n",
    "    nl_str=nl_str,\n",
    "    existing_predicates_str=existing_predicates_str,\n",
    "    examples_str=TRANSLATE_EXAMPLES_V1\n",
    ")"
   ]
  },
  {
   "cell_type": "code",
   "execution_count": 6,
   "metadata": {},
   "outputs": [
    {
     "name": "stdout",
     "output_type": "stream",
     "text": [
      "Translate the following natural language (NL) statement to a first-order logic (FOL) rule.\n",
      "\n",
      "When there are pre-defined predicates, try to use them to form the premises, and only add new predicates if necessary.\n",
      "\n",
      "The output must be in JSON format and has the following 3 fields:\n",
      "* `existing_predicates`: array of existing predicates that can be used to form the premises, in camel case with no space, and number of variables it takes e.g., `CamelCase(x,y)`\n",
      "* `new_predicates`: array of new predicates, in camel case with no space, and number of variables it takes e.g., `CamelCase(x,y)`\n",
      "* `variables`: array of variables, in lower case with no space, e.g., `lowercase`\n",
      "* `premises`: array of premises constructed from the NL statement\n",
      "* `conclusion`: the translation of the conclusion of the NL, can be a question or a statement. If it is a yes/no question, translate to the one with 'yes' semantic meaning.\n",
      "\n",
      "Important notes:\n",
      "* Don't forget to also include predicates used in `conclusion` in either `existing_predicates` or `new_predicates`\n",
      "\n",
      "Please return only the JSON output, don't include any other text.\n",
      "\n",
      "--- Start of Example 1 ---\n",
      "NL:\n",
      "All people who regularly drink coffee are dependent on caffeine. People regularly drink coffee, or they don't want to be addicted to caffeine, or both. No one who doesn't want to be addicted to caffeine is unaware that caffeine is a drug. Rina is either a student who is unaware that caffeine is a drug, or she is not a student and is she aware that caffeine is a drug. Rina is either a student who is dependent on caffeine, or she is not a student and not dependent on caffeine.\n",
      "\n",
      "Existing predicates:\n",
      "None\n",
      "\n",
      "FOL translation:\n",
      "```\n",
      "{\n",
      "  \"existing_predicates\": [],\n",
      "  \"new_predicates\": [\n",
      "    \"DrinkRegularly(x,y)\",\n",
      "    \"IsDependentOn(x,y)\",\n",
      "    \"DrinkRegularly(x,y)\",\n",
      "    \"WantToBeAddictedTo(x,y)\",\n",
      "    \"AwareThatDrug(x,y)\",\n",
      "    \"Student(x)\"\n",
      "  ],\n",
      "  \"variables\": [\n",
      "    \"coffee\",\n",
      "    \"caffeine\",\n",
      "    \"rina\"\n",
      "  ],\n",
      "  \"premises\": [\n",
      "    \"∀x (DrinkRegularly(x, coffee) → IsDependentOn(x, caffeine))\",\n",
      "    \"∀x (DrinkRegularly(x, coffee) ∨ (¬WantToBeAddictedTo(x, caffeine)))\",\n",
      "    \"∀x (¬WantToBeAddictedTo(x, caffeine) → ¬AwareThatDrug(x, caffeine)) ¬(Student(rina) ⊕ ¬AwareThatDrug(rina, caffeine)) ¬(IsDependentOn(rina, caffeine) ⊕ Student(rina))\"\n",
      "  ],\n",
      "  \"conclusion\": \"\"\n",
      "}\n",
      "```\n",
      "--- End of Example 1 ---\n",
      "\n",
      "--- Start of Example 2 ---\n",
      "NL:\n",
      "All people who regularly drink coffee are dependent on caffeine. People regularly drink coffee, or they don't want to be addicted to caffeine, or both. No one who doesn't want to be addicted to caffeine is unaware that caffeine is a drug. Rina is either a student who is unaware that caffeine is a drug, or she is not a student and is she aware that caffeine is a drug. Rina is either a student who is dependent on caffeine, or she is not a student and not dependent on caffeine.\n",
      "\n",
      "Existing predicates:\n",
      "- DrinkRegularly(x,y)\n",
      "- IsDependentOn(x,y)\n",
      "- WantToBeAddictedTo(x,y)\n",
      "\n",
      "FOL translation:\n",
      "```\n",
      "{\n",
      "  \"existing_predicates\": [\n",
      "    \"DrinkRegularly(x,y)\",\n",
      "    \"IsDependentOn(x,y)\",\n",
      "    \"WantToBeAddictedTo(x,y)\"\n",
      "  ],\n",
      "  \"new_predicates\": [\n",
      "    \"AwareThatDrug(x,y)\",\n",
      "    \"Student(x)\"\n",
      "  ],\n",
      "  \"variables\": [\n",
      "    \"coffee\",\n",
      "    \"caffeine\",\n",
      "    \"rina\"\n",
      "  ],\n",
      "  \"premises\": [\n",
      "    \"∀x (DrinkRegularly(x, coffee) → IsDependentOn(x, caffeine))\",\n",
      "    \"∀x (DrinkRegularly(x, coffee) ∨ (¬WantToBeAddictedTo(x, caffeine)))\",\n",
      "    \"∀x (¬WantToBeAddictedTo(x, caffeine) → ¬AwareThatDrug(x, caffeine)) ¬(Student(rina) ⊕ ¬AwareThatDrug(rina, caffeine)) ¬(IsDependentOn(rina, caffeine) ⊕ Student(rina))\"\n",
      "  ],\n",
      "  \"conclusion\": \"\"\n",
      "}\n",
      "```\n",
      "--- End of Example 2 ---\n",
      "\n",
      "\n",
      "NL:\n",
      "\n",
      "Chào PĐT, Em là Nguyễn Văn An, đang học khoa KH&KTMT, khóa 2023. Em nhận được cảnh cáo học vụ ở HK232 này, nhưng nhưng do học kỳ này em bận tham dự hoạt động tình nguyện Chiến dịch Xanh của Đoàn hội cấp tỉnh TP nên lơ là trong việc học tập (em có đính kèm minh chứng). Em muốn hỏi là liệu nhà trường có thể xem xét cho em trong trường hợp này được không? Em cảm ơn rất nhiều.\n",
      "\n",
      "\n",
      "Existing predicates:\n",
      "- FromFaculty(x,y)\n",
      "- StartsYear(x,y)\n",
      "- HasReceived(x,y)\n",
      "- ReceivedWarningInSemester(x,y)\n",
      "- ParticipatedIn(x,y)\n",
      "- OrganizedBy(x,y)\n",
      "\n",
      "FOL translation:\n",
      "\n"
     ]
    }
   ],
   "source": [
    "print(prompt)"
   ]
  },
  {
   "cell_type": "code",
   "execution_count": 11,
   "metadata": {},
   "outputs": [
    {
     "name": "stdout",
     "output_type": "stream",
     "text": [
      "```\n",
      "{\n",
      "  \"existing_predicates\": [\n",
      "    \"FromFaculty(x,y)\",\n",
      "    \"StartsYear(x,y)\",\n",
      "    \"HasReceived(x,y)\",\n",
      "    \"ReceivedWarningInSemester(x,y)\",\n",
      "    \"ParticipatedIn(x,y)\",\n",
      "    \"OrganizedBy(x,y)\"\n",
      "  ],\n",
      "  \"new_predicates\": [\n",
      "    \"IsStudent(x)\",\n",
      "    \"IsVolunteerActivity(x)\",\n",
      "    \"IsProvinceLevel(x)\",\n",
      "    \"IsAttachedEvidence(x)\"\n",
      "  ],\n",
      "  \"variables\": [\n",
      "    \"an\",\n",
      "    \"khktmt\",\n",
      "    \"2023\",\n",
      "    \"hk232\",\n",
      "    \"chienDichXanh\",\n",
      "    \"tp\"\n",
      "  ],\n",
      "  \"premises\": [\n",
      "    \"IsStudent(an)\",\n",
      "    \"FromFaculty(an, khktmt)\",\n",
      "    \"StartsYear(an, 2023)\",\n",
      "    \"ReceivedWarningInSemester(an, hk232)\",\n",
      "    \"ParticipatedIn(an, chienDichXanh)\",\n",
      "    \"IsVolunteerActivity(chienDichXanh)\",\n",
      "    \"OrganizedBy(chienDichXanh, tp)\",\n",
      "    \"IsProvinceLevel(tp)\",\n",
      "    \"IsAttachedEvidence(an)\"\n",
      "  ],\n",
      "  \"conclusion\": \"∃x (IsStudent(x) ∧ FromFaculty(x, khktmt) ∧ StartsYear(x, 2023) ∧ ReceivedWarningInSemester(x, hk232) ∧ ParticipatedIn(x, chienDichXanh) ∧ IsVolunteerActivity(chienDichXanh) ∧ OrganizedBy(chienDichXanh, tp) ∧ IsProvinceLevel(tp) ∧ IsAttachedEvidence(x) → CanBeConsidered(x))\"\n",
      "}\n",
      "```\n"
     ]
    }
   ],
   "source": [
    "from openai import OpenAI\n",
    "\n",
    "client = OpenAI(\n",
    "  base_url = \"https://integrate.api.nvidia.com/v1\",\n",
    "  api_key = NVIDIA_API_KEY\n",
    ")\n",
    "\n",
    "completion = client.chat.completions.create(\n",
    "    model=\"meta/llama-3.1-70b-instruct\",\n",
    "    messages=[\n",
    "        {\n",
    "            \"role\": \"user\",\n",
    "            \"content\": prompt\n",
    "        }\n",
    "    ],\n",
    "    temperature=0.0,\n",
    "    top_p=0.7,\n",
    "    max_tokens=1024,\n",
    "    stream=False\n",
    ")\n",
    "\n",
    "print(completion.choices[0].message.content)"
   ]
  },
  {
   "cell_type": "markdown",
   "metadata": {},
   "source": [
    "## 2. Run on the whole dataset"
   ]
  },
  {
   "cell_type": "markdown",
   "metadata": {},
   "source": []
  }
 ],
 "metadata": {
  "kernelspec": {
   "display_name": "nl2fol-local",
   "language": "python",
   "name": "python3"
  },
  "language_info": {
   "codemirror_mode": {
    "name": "ipython",
    "version": 3
   },
   "file_extension": ".py",
   "mimetype": "text/x-python",
   "name": "python",
   "nbconvert_exporter": "python",
   "pygments_lexer": "ipython3",
   "version": "3.8.19"
  }
 },
 "nbformat": 4,
 "nbformat_minor": 2
}
