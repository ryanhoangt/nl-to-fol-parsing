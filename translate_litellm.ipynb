{
 "cells": [
  {
   "cell_type": "markdown",
   "metadata": {},
   "source": [
    "# NL to FOL Translation with `LiteLLM`\n",
    "\n",
    "Use `LiteLLM` to translate natural language sentences to first-order logic (FOL) formulas, which offers more flexibility to swap the underlying LLM."
   ]
  },
  {
   "cell_type": "markdown",
   "metadata": {},
   "source": [
    "## 0. Setup"
   ]
  },
  {
   "cell_type": "code",
   "execution_count": 29,
   "metadata": {},
   "outputs": [],
   "source": [
    "import os\n",
    "import json\n",
    "import pandas as pd\n",
    "from litellm import completion\n",
    "from rich import print as rprint\n",
    "\n",
    "from prompt import PromptTemplate, TRANSLATE_TEMPLATE_V1, TRANSLATE_EXAMPLES_V1, CORRECT_TEMPLATE_V1\n",
    "from metrics import is_syntactically_valid_with_timeout"
   ]
  },
  {
   "cell_type": "code",
   "execution_count": 3,
   "metadata": {},
   "outputs": [
    {
     "data": {
      "text/plain": [
       "True"
      ]
     },
     "execution_count": 3,
     "metadata": {},
     "output_type": "execute_result"
    }
   ],
   "source": [
    "# Load environment variables\n",
    "from dotenv import load_dotenv\n",
    "load_dotenv()"
   ]
  },
  {
   "cell_type": "code",
   "execution_count": 6,
   "metadata": {},
   "outputs": [],
   "source": [
    "trans_prompt_template = PromptTemplate(TRANSLATE_TEMPLATE_V1)\n",
    "correct_prompt_template = PromptTemplate(CORRECT_TEMPLATE_V1)"
   ]
  },
  {
   "cell_type": "code",
   "execution_count": 8,
   "metadata": {},
   "outputs": [],
   "source": [
    "df = pd.read_csv('data/quy_che.tsv', sep='\\t')\n",
    "\n",
    "all_quy_che = df['quy_che'].tolist()\n",
    "all_quy_che_fols = []"
   ]
  },
  {
   "cell_type": "code",
   "execution_count": 48,
   "metadata": {},
   "outputs": [
    {
     "data": {
      "text/html": [
       "<pre style=\"white-space:pre;overflow-x:auto;line-height:normal;font-family:Menlo,'DejaVu Sans Mono',consolas,'Courier New',monospace\"><span style=\"font-weight: bold\">{</span>\n",
       "    <span style=\"color: #008000; text-decoration-color: #008000\">'role'</span>: <span style=\"color: #008000; text-decoration-color: #008000\">'user'</span>,\n",
       "    <span style=\"color: #008000; text-decoration-color: #008000\">'content'</span>: <span style=\"color: #008000; text-decoration-color: #008000\">'Translate the following natural language (NL) statement to a first-order logic (FOL) rule.\\n\\nWhen </span>\n",
       "<span style=\"color: #008000; text-decoration-color: #008000\">there are pre-defined predicates, try to use them to form the premises, and only add new predicates if </span>\n",
       "<span style=\"color: #008000; text-decoration-color: #008000\">necessary.\\n\\nThe output must be in JSON format and has the following 3 fields:\\n* `existing_predicates`: array of </span>\n",
       "<span style=\"color: #008000; text-decoration-color: #008000\">existing predicates that can be used to form the premises, in camel case with no space, and number of variables it </span>\n",
       "<span style=\"color: #008000; text-decoration-color: #008000\">takes e.g., `CamelCase(x,y)`\\n* `new_predicates`: array of new predicates, in camel case with no space, and number </span>\n",
       "<span style=\"color: #008000; text-decoration-color: #008000\">of variables it takes e.g., `CamelCase(x,y)`\\n* `variables`: array of variables, in lower case with no space, e.g.,</span>\n",
       "<span style=\"color: #008000; text-decoration-color: #008000\">`lowercase`\\n* `premises`: array of premises constructed from the NL statement\\n* `conclusion`: the translation of </span>\n",
       "<span style=\"color: #008000; text-decoration-color: #008000\">the conclusion of the NL, can be a question or a statement. If it is a yes/no question, translate to the one with </span>\n",
       "<span style=\"color: #008000; text-decoration-color: #008000\">\\'yes\\' semantic meaning.\\n\\nImportant notes:\\n* Don\\'t forget to also include predicates used in `conclusion` in </span>\n",
       "<span style=\"color: #008000; text-decoration-color: #008000\">either `existing_predicates` or `new_predicates`\\n* In FOL logic, there are no operators like &lt;, &gt;, =, etc. Define </span>\n",
       "<span style=\"color: #008000; text-decoration-color: #008000\">predicates for them instead.\\n\\nPlease return only the JSON output, don\\'t include any other text.\\n\\n--- Start of </span>\n",
       "<span style=\"color: #008000; text-decoration-color: #008000\">Example 1 ---\\nNL:\\nAll people who regularly drink coffee are dependent on caffeine. People regularly drink coffee,</span>\n",
       "<span style=\"color: #008000; text-decoration-color: #008000\">or they don\\'t want to be addicted to caffeine, or both. No one who doesn\\'t want to be addicted to caffeine is </span>\n",
       "<span style=\"color: #008000; text-decoration-color: #008000\">unaware that caffeine is a drug. Rina is either a student who is unaware that caffeine is a drug, or she is not a </span>\n",
       "<span style=\"color: #008000; text-decoration-color: #008000\">student and is she aware that caffeine is a drug. Rina is either a student who is dependent on caffeine, or she is </span>\n",
       "<span style=\"color: #008000; text-decoration-color: #008000\">not a student and not dependent on caffeine.\\n\\nExisting predicates:\\nNone\\n\\nFOL translation:\\n```\\n{\\n  </span>\n",
       "<span style=\"color: #008000; text-decoration-color: #008000\">\"existing_predicates\": [],\\n  \"new_predicates\": [\\n    \"DrinkRegularly(x,y)\",\\n    \"IsDependentOn(x,y)\",\\n    </span>\n",
       "<span style=\"color: #008000; text-decoration-color: #008000\">\"DrinkRegularly(x,y)\",\\n    \"WantToBeAddictedTo(x,y)\",\\n    \"AwareThatDrug(x,y)\",\\n    \"Student(x)\"\\n  ],\\n  </span>\n",
       "<span style=\"color: #008000; text-decoration-color: #008000\">\"variables\": [\\n    \"coffee\",\\n    \"caffeine\",\\n    \"rina\"\\n  ],\\n  \"premises\": [\\n    \"∀x (DrinkRegularly(x, </span>\n",
       "<span style=\"color: #008000; text-decoration-color: #008000\">coffee) → IsDependentOn(x, caffeine))\",\\n    \"∀x (DrinkRegularly(x, coffee) ∨ (¬WantToBeAddictedTo(x, </span>\n",
       "<span style=\"color: #008000; text-decoration-color: #008000\">caffeine)))\",\\n    \"∀x (¬WantToBeAddictedTo(x, caffeine) → ¬AwareThatDrug(x, caffeine)) ¬(Student(rina) ⊕ </span>\n",
       "<span style=\"color: #008000; text-decoration-color: #008000\">¬AwareThatDrug(rina, caffeine)) ¬(IsDependentOn(rina, caffeine) ⊕ Student(rina))\"\\n  ],\\n  \"conclusion\": </span>\n",
       "<span style=\"color: #008000; text-decoration-color: #008000\">\"\"\\n}\\n```\\n--- End of Example 1 ---\\n\\n--- Start of Example 2 ---\\nNL:\\nAll people who regularly drink coffee are </span>\n",
       "<span style=\"color: #008000; text-decoration-color: #008000\">dependent on caffeine. People regularly drink coffee, or they don\\'t want to be addicted to caffeine, or both. No </span>\n",
       "<span style=\"color: #008000; text-decoration-color: #008000\">one who doesn\\'t want to be addicted to caffeine is unaware that caffeine is a drug. Rina is either a student who </span>\n",
       "<span style=\"color: #008000; text-decoration-color: #008000\">is unaware that caffeine is a drug, or she is not a student and is she aware that caffeine is a drug. Rina is </span>\n",
       "<span style=\"color: #008000; text-decoration-color: #008000\">either a student who is dependent on caffeine, or she is not a student and not dependent on caffeine.\\n\\nExisting </span>\n",
       "<span style=\"color: #008000; text-decoration-color: #008000\">predicates:\\n- DrinkRegularly(x,y)\\n- IsDependentOn(x,y)\\n- WantToBeAddictedTo(x,y)\\n\\nFOL translation:\\n```\\n{\\n  </span>\n",
       "<span style=\"color: #008000; text-decoration-color: #008000\">\"existing_predicates\": [\\n    \"DrinkRegularly(x,y)\",\\n    \"IsDependentOn(x,y)\",\\n    \"WantToBeAddictedTo(x,y)\"\\n  </span>\n",
       "<span style=\"color: #008000; text-decoration-color: #008000\">],\\n  \"new_predicates\": [\\n    \"AwareThatDrug(x,y)\",\\n    \"Student(x)\"\\n  ],\\n  \"variables\": [\\n    \"coffee\",\\n    </span>\n",
       "<span style=\"color: #008000; text-decoration-color: #008000\">\"caffeine\",\\n    \"rina\"\\n  ],\\n  \"premises\": [\\n    \"∀x (DrinkRegularly(x, coffee) → IsDependentOn(x, </span>\n",
       "<span style=\"color: #008000; text-decoration-color: #008000\">caffeine))\",\\n    \"∀x (DrinkRegularly(x, coffee) ∨ (¬WantToBeAddictedTo(x, caffeine)))\",\\n    \"∀x </span>\n",
       "<span style=\"color: #008000; text-decoration-color: #008000\">(¬WantToBeAddictedTo(x, caffeine) → ¬AwareThatDrug(x, caffeine)) ¬(Student(rina) ⊕ ¬AwareThatDrug(rina, caffeine)) </span>\n",
       "<span style=\"color: #008000; text-decoration-color: #008000\">¬(IsDependentOn(rina, caffeine) ⊕ Student(rina))\"\\n  ],\\n  \"conclusion\": \"\"\\n}\\n```\\n--- End of Example 2 </span>\n",
       "<span style=\"color: #008000; text-decoration-color: #008000\">---\\n\\n\\nNL:\\nCác học phần tốt nghiệp (Thực tập ngoài trường, Đồ án chuyên ngành, Khoá luận tốt nghiệp) được thiết</span>\n",
       "<span style=\"color: #008000; text-decoration-color: #008000\">kế vào cuối chương trình đào tạo. Sinh viên phải hoàn thành điều kiện về chuẩn ngoại ngữ và số tín chỉ tích luỹ</span>\n",
       "<span style=\"color: #008000; text-decoration-color: #008000\">ngành trước khi được phép đăng ký các học phần này.\\\\nSinh viên phải tích luỹ đủ ít nhất 65% số tín chỉ của chương</span>\n",
       "<span style=\"color: #008000; text-decoration-color: #008000\">trình đào tạo để đăng ký học phần Thực tập ngoài trường.\\\\nSinh viên phải tích luỹ đủ ít nhất 70% số tín chỉ của</span>\n",
       "<span style=\"color: #008000; text-decoration-color: #008000\">chương trình đào tạo để đăng ký học phần Đồ án chuyên ngành.\\\\nSinh viên phải tích luỹ số đủ ít nhất 85% số tín chỉ</span>\n",
       "<span style=\"color: #008000; text-decoration-color: #008000\">của chương trình đào tạo, hoàn thành tối thiểu 70% chương trình rèn luyện sinh viên theo quy định của trường và đạt</span>\n",
       "<span style=\"color: #008000; text-decoration-color: #008000\">Chuẩn ngoại ngữ tốt nghiệp để đăng ký học phần Khoá luận tốt nghiệp.\\\\nNgoài ra, sinh viên phải thoả mãn các điều</span>\n",
       "<span style=\"color: #008000; text-decoration-color: #008000\">kiện ràng buộc tiên quyết, song hành của các học phần tốt nghiệp như sau:\\\\nThực tập ngoài trường là học phần song</span>\n",
       "<span style=\"color: #008000; text-decoration-color: #008000\">hành của Đồ án chuyên ngành.\\\\nThực tập ngoài trường và Đồ án chuyên ngành là học phần tiên quyết của Khoá luận tốt</span>\n",
       "<span style=\"color: #008000; text-decoration-color: #008000\">nghiệp.\\n\\nExisting predicates:\\n[]\\n\\nFOL translation:\\n'</span>\n",
       "<span style=\"font-weight: bold\">}</span>\n",
       "</pre>\n"
      ],
      "text/plain": [
       "\u001b[1m{\u001b[0m\n",
       "    \u001b[32m'role'\u001b[0m: \u001b[32m'user'\u001b[0m,\n",
       "    \u001b[32m'content'\u001b[0m: \u001b[32m'Translate the following natural language \u001b[0m\u001b[32m(\u001b[0m\u001b[32mNL\u001b[0m\u001b[32m)\u001b[0m\u001b[32m statement to a first-order logic \u001b[0m\u001b[32m(\u001b[0m\u001b[32mFOL\u001b[0m\u001b[32m)\u001b[0m\u001b[32m rule.\\n\\nWhen \u001b[0m\n",
       "\u001b[32mthere are pre-defined predicates, try to use them to form the premises, and only add new predicates if \u001b[0m\n",
       "\u001b[32mnecessary.\\n\\nThe output must be in JSON format and has the following 3 fields:\\n* `existing_predicates`: array of \u001b[0m\n",
       "\u001b[32mexisting predicates that can be used to form the premises, in camel case with no space, and number of variables it \u001b[0m\n",
       "\u001b[32mtakes e.g., `CamelCase\u001b[0m\u001b[32m(\u001b[0m\u001b[32mx,y\u001b[0m\u001b[32m)\u001b[0m\u001b[32m`\\n* `new_predicates`: array of new predicates, in camel case with no space, and number \u001b[0m\n",
       "\u001b[32mof variables it takes e.g., `CamelCase\u001b[0m\u001b[32m(\u001b[0m\u001b[32mx,y\u001b[0m\u001b[32m)\u001b[0m\u001b[32m`\\n* `variables`: array of variables, in lower case with no space, e.g.,\u001b[0m\n",
       "\u001b[32m`lowercase`\\n* `premises`: array of premises constructed from the NL statement\\n* `conclusion`: the translation of \u001b[0m\n",
       "\u001b[32mthe conclusion of the NL, can be a question or a statement. If it is a yes/no question, translate to the one with \u001b[0m\n",
       "\u001b[32m\\'yes\\' semantic meaning.\\n\\nImportant notes:\\n* Don\\'t forget to also include predicates used in `conclusion` in \u001b[0m\n",
       "\u001b[32meither `existing_predicates` or `new_predicates`\\n* In FOL logic, there are no operators like \u001b[0m\u001b[32m<\u001b[0m\u001b[32m, \u001b[0m\u001b[32m>\u001b[0m\u001b[32m, =, etc. Define \u001b[0m\n",
       "\u001b[32mpredicates for them instead.\\n\\nPlease return only the JSON output, don\\'t include any other text.\\n\\n--- Start of \u001b[0m\n",
       "\u001b[32mExample 1 ---\\nNL:\\nAll people who regularly drink coffee are dependent on caffeine. People regularly drink coffee,\u001b[0m\n",
       "\u001b[32mor they don\\'t want to be addicted to caffeine, or both. No one who doesn\\'t want to be addicted to caffeine is \u001b[0m\n",
       "\u001b[32munaware that caffeine is a drug. Rina is either a student who is unaware that caffeine is a drug, or she is not a \u001b[0m\n",
       "\u001b[32mstudent and is she aware that caffeine is a drug. Rina is either a student who is dependent on caffeine, or she is \u001b[0m\n",
       "\u001b[32mnot a student and not dependent on caffeine.\\n\\nExisting predicates:\\nNone\\n\\nFOL translation:\\n```\\n\u001b[0m\u001b[32m{\u001b[0m\u001b[32m\\n  \u001b[0m\n",
       "\u001b[32m\"existing_predicates\": \u001b[0m\u001b[32m[\u001b[0m\u001b[32m]\u001b[0m\u001b[32m,\\n  \"new_predicates\": \u001b[0m\u001b[32m[\u001b[0m\u001b[32m\\n    \"DrinkRegularly\u001b[0m\u001b[32m(\u001b[0m\u001b[32mx,y\u001b[0m\u001b[32m)\u001b[0m\u001b[32m\",\\n    \"IsDependentOn\u001b[0m\u001b[32m(\u001b[0m\u001b[32mx,y\u001b[0m\u001b[32m)\u001b[0m\u001b[32m\",\\n    \u001b[0m\n",
       "\u001b[32m\"DrinkRegularly\u001b[0m\u001b[32m(\u001b[0m\u001b[32mx,y\u001b[0m\u001b[32m)\u001b[0m\u001b[32m\",\\n    \"WantToBeAddictedTo\u001b[0m\u001b[32m(\u001b[0m\u001b[32mx,y\u001b[0m\u001b[32m)\u001b[0m\u001b[32m\",\\n    \"AwareThatDrug\u001b[0m\u001b[32m(\u001b[0m\u001b[32mx,y\u001b[0m\u001b[32m)\u001b[0m\u001b[32m\",\\n    \"Student\u001b[0m\u001b[32m(\u001b[0m\u001b[32mx\u001b[0m\u001b[32m)\u001b[0m\u001b[32m\"\\n  \u001b[0m\u001b[32m]\u001b[0m\u001b[32m,\\n  \u001b[0m\n",
       "\u001b[32m\"variables\": \u001b[0m\u001b[32m[\u001b[0m\u001b[32m\\n    \"coffee\",\\n    \"caffeine\",\\n    \"rina\"\\n  \u001b[0m\u001b[32m]\u001b[0m\u001b[32m,\\n  \"premises\": \u001b[0m\u001b[32m[\u001b[0m\u001b[32m\\n    \"∀x \u001b[0m\u001b[32m(\u001b[0m\u001b[32mDrinkRegularly\u001b[0m\u001b[32m(\u001b[0m\u001b[32mx, \u001b[0m\n",
       "\u001b[32mcoffee\u001b[0m\u001b[32m)\u001b[0m\u001b[32m → IsDependentOn\u001b[0m\u001b[32m(\u001b[0m\u001b[32mx, caffeine\u001b[0m\u001b[32m)\u001b[0m\u001b[32m)\u001b[0m\u001b[32m\",\\n    \"∀x \u001b[0m\u001b[32m(\u001b[0m\u001b[32mDrinkRegularly\u001b[0m\u001b[32m(\u001b[0m\u001b[32mx, coffee\u001b[0m\u001b[32m)\u001b[0m\u001b[32m ∨ \u001b[0m\u001b[32m(\u001b[0m\u001b[32m¬WantToBeAddictedTo\u001b[0m\u001b[32m(\u001b[0m\u001b[32mx, \u001b[0m\n",
       "\u001b[32mcaffeine\u001b[0m\u001b[32m)\u001b[0m\u001b[32m)\u001b[0m\u001b[32m)\u001b[0m\u001b[32m\",\\n    \"∀x \u001b[0m\u001b[32m(\u001b[0m\u001b[32m¬WantToBeAddictedTo\u001b[0m\u001b[32m(\u001b[0m\u001b[32mx, caffeine\u001b[0m\u001b[32m)\u001b[0m\u001b[32m → ¬AwareThatDrug\u001b[0m\u001b[32m(\u001b[0m\u001b[32mx, caffeine\u001b[0m\u001b[32m)\u001b[0m\u001b[32m)\u001b[0m\u001b[32m ¬\u001b[0m\u001b[32m(\u001b[0m\u001b[32mStudent\u001b[0m\u001b[32m(\u001b[0m\u001b[32mrina\u001b[0m\u001b[32m)\u001b[0m\u001b[32m ⊕ \u001b[0m\n",
       "\u001b[32m¬AwareThatDrug\u001b[0m\u001b[32m(\u001b[0m\u001b[32mrina, caffeine\u001b[0m\u001b[32m)\u001b[0m\u001b[32m)\u001b[0m\u001b[32m ¬\u001b[0m\u001b[32m(\u001b[0m\u001b[32mIsDependentOn\u001b[0m\u001b[32m(\u001b[0m\u001b[32mrina, caffeine\u001b[0m\u001b[32m)\u001b[0m\u001b[32m ⊕ Student\u001b[0m\u001b[32m(\u001b[0m\u001b[32mrina\u001b[0m\u001b[32m)\u001b[0m\u001b[32m)\u001b[0m\u001b[32m\"\\n  \u001b[0m\u001b[32m]\u001b[0m\u001b[32m,\\n  \"conclusion\": \u001b[0m\n",
       "\u001b[32m\"\"\\n\u001b[0m\u001b[32m}\u001b[0m\u001b[32m\\n```\\n--- End of Example 1 ---\\n\\n--- Start of Example 2 ---\\nNL:\\nAll people who regularly drink coffee are \u001b[0m\n",
       "\u001b[32mdependent on caffeine. People regularly drink coffee, or they don\\'t want to be addicted to caffeine, or both. No \u001b[0m\n",
       "\u001b[32mone who doesn\\'t want to be addicted to caffeine is unaware that caffeine is a drug. Rina is either a student who \u001b[0m\n",
       "\u001b[32mis unaware that caffeine is a drug, or she is not a student and is she aware that caffeine is a drug. Rina is \u001b[0m\n",
       "\u001b[32meither a student who is dependent on caffeine, or she is not a student and not dependent on caffeine.\\n\\nExisting \u001b[0m\n",
       "\u001b[32mpredicates:\\n- DrinkRegularly\u001b[0m\u001b[32m(\u001b[0m\u001b[32mx,y\u001b[0m\u001b[32m)\u001b[0m\u001b[32m\\n- IsDependentOn\u001b[0m\u001b[32m(\u001b[0m\u001b[32mx,y\u001b[0m\u001b[32m)\u001b[0m\u001b[32m\\n- WantToBeAddictedTo\u001b[0m\u001b[32m(\u001b[0m\u001b[32mx,y\u001b[0m\u001b[32m)\u001b[0m\u001b[32m\\n\\nFOL translation:\\n```\\n\u001b[0m\u001b[32m{\u001b[0m\u001b[32m\\n  \u001b[0m\n",
       "\u001b[32m\"existing_predicates\": \u001b[0m\u001b[32m[\u001b[0m\u001b[32m\\n    \"DrinkRegularly\u001b[0m\u001b[32m(\u001b[0m\u001b[32mx,y\u001b[0m\u001b[32m)\u001b[0m\u001b[32m\",\\n    \"IsDependentOn\u001b[0m\u001b[32m(\u001b[0m\u001b[32mx,y\u001b[0m\u001b[32m)\u001b[0m\u001b[32m\",\\n    \"WantToBeAddictedTo\u001b[0m\u001b[32m(\u001b[0m\u001b[32mx,y\u001b[0m\u001b[32m)\u001b[0m\u001b[32m\"\\n  \u001b[0m\n",
       "\u001b[32m]\u001b[0m\u001b[32m,\\n  \"new_predicates\": \u001b[0m\u001b[32m[\u001b[0m\u001b[32m\\n    \"AwareThatDrug\u001b[0m\u001b[32m(\u001b[0m\u001b[32mx,y\u001b[0m\u001b[32m)\u001b[0m\u001b[32m\",\\n    \"Student\u001b[0m\u001b[32m(\u001b[0m\u001b[32mx\u001b[0m\u001b[32m)\u001b[0m\u001b[32m\"\\n  \u001b[0m\u001b[32m]\u001b[0m\u001b[32m,\\n  \"variables\": \u001b[0m\u001b[32m[\u001b[0m\u001b[32m\\n    \"coffee\",\\n    \u001b[0m\n",
       "\u001b[32m\"caffeine\",\\n    \"rina\"\\n  \u001b[0m\u001b[32m]\u001b[0m\u001b[32m,\\n  \"premises\": \u001b[0m\u001b[32m[\u001b[0m\u001b[32m\\n    \"∀x \u001b[0m\u001b[32m(\u001b[0m\u001b[32mDrinkRegularly\u001b[0m\u001b[32m(\u001b[0m\u001b[32mx, coffee\u001b[0m\u001b[32m)\u001b[0m\u001b[32m → IsDependentOn\u001b[0m\u001b[32m(\u001b[0m\u001b[32mx, \u001b[0m\n",
       "\u001b[32mcaffeine\u001b[0m\u001b[32m)\u001b[0m\u001b[32m)\u001b[0m\u001b[32m\",\\n    \"∀x \u001b[0m\u001b[32m(\u001b[0m\u001b[32mDrinkRegularly\u001b[0m\u001b[32m(\u001b[0m\u001b[32mx, coffee\u001b[0m\u001b[32m)\u001b[0m\u001b[32m ∨ \u001b[0m\u001b[32m(\u001b[0m\u001b[32m¬WantToBeAddictedTo\u001b[0m\u001b[32m(\u001b[0m\u001b[32mx, caffeine\u001b[0m\u001b[32m)\u001b[0m\u001b[32m)\u001b[0m\u001b[32m)\u001b[0m\u001b[32m\",\\n    \"∀x \u001b[0m\n",
       "\u001b[32m(\u001b[0m\u001b[32m¬WantToBeAddictedTo\u001b[0m\u001b[32m(\u001b[0m\u001b[32mx, caffeine\u001b[0m\u001b[32m)\u001b[0m\u001b[32m → ¬AwareThatDrug\u001b[0m\u001b[32m(\u001b[0m\u001b[32mx, caffeine\u001b[0m\u001b[32m)\u001b[0m\u001b[32m)\u001b[0m\u001b[32m ¬\u001b[0m\u001b[32m(\u001b[0m\u001b[32mStudent\u001b[0m\u001b[32m(\u001b[0m\u001b[32mrina\u001b[0m\u001b[32m)\u001b[0m\u001b[32m ⊕ ¬AwareThatDrug\u001b[0m\u001b[32m(\u001b[0m\u001b[32mrina, caffeine\u001b[0m\u001b[32m)\u001b[0m\u001b[32m)\u001b[0m\u001b[32m \u001b[0m\n",
       "\u001b[32m¬\u001b[0m\u001b[32m(\u001b[0m\u001b[32mIsDependentOn\u001b[0m\u001b[32m(\u001b[0m\u001b[32mrina, caffeine\u001b[0m\u001b[32m)\u001b[0m\u001b[32m ⊕ Student\u001b[0m\u001b[32m(\u001b[0m\u001b[32mrina\u001b[0m\u001b[32m)\u001b[0m\u001b[32m)\u001b[0m\u001b[32m\"\\n  \u001b[0m\u001b[32m]\u001b[0m\u001b[32m,\\n  \"conclusion\": \"\"\\n\u001b[0m\u001b[32m}\u001b[0m\u001b[32m\\n```\\n--- End of Example 2 \u001b[0m\n",
       "\u001b[32m---\\n\\n\\nNL:\\nCác học phần tốt nghiệp \u001b[0m\u001b[32m(\u001b[0m\u001b[32mThực tập ngoài trường, Đồ án chuyên ngành, Khoá luận tốt nghiệp\u001b[0m\u001b[32m)\u001b[0m\u001b[32m được thiết\u001b[0m\n",
       "\u001b[32mkế vào cuối chương trình đào tạo. Sinh viên phải hoàn thành điều kiện về chuẩn ngoại ngữ và số tín chỉ tích luỹ\u001b[0m\n",
       "\u001b[32mngành trước khi được phép đăng ký các học phần này.\\\\nSinh viên phải tích luỹ đủ ít nhất 65% số tín chỉ của chương\u001b[0m\n",
       "\u001b[32mtrình đào tạo để đăng ký học phần Thực tập ngoài trường.\\\\nSinh viên phải tích luỹ đủ ít nhất 70% số tín chỉ của\u001b[0m\n",
       "\u001b[32mchương trình đào tạo để đăng ký học phần Đồ án chuyên ngành.\\\\nSinh viên phải tích luỹ số đủ ít nhất 85% số tín chỉ\u001b[0m\n",
       "\u001b[32mcủa chương trình đào tạo, hoàn thành tối thiểu 70% chương trình rèn luyện sinh viên theo quy định của trường và đạt\u001b[0m\n",
       "\u001b[32mChuẩn ngoại ngữ tốt nghiệp để đăng ký học phần Khoá luận tốt nghiệp.\\\\nNgoài ra, sinh viên phải thoả mãn các điều\u001b[0m\n",
       "\u001b[32mkiện ràng buộc tiên quyết, song hành của các học phần tốt nghiệp như sau:\\\\nThực tập ngoài trường là học phần song\u001b[0m\n",
       "\u001b[32mhành của Đồ án chuyên ngành.\\\\nThực tập ngoài trường và Đồ án chuyên ngành là học phần tiên quyết của Khoá luận tốt\u001b[0m\n",
       "\u001b[32mnghiệp.\\n\\nExisting predicates:\\n\u001b[0m\u001b[32m[\u001b[0m\u001b[32m]\u001b[0m\u001b[32m\\n\\nFOL translation:\\n'\u001b[0m\n",
       "\u001b[1m}\u001b[0m\n"
      ]
     },
     "metadata": {},
     "output_type": "display_data"
    },
    {
     "data": {
      "text/html": [
       "<pre style=\"white-space:pre;overflow-x:auto;line-height:normal;font-family:Menlo,'DejaVu Sans Mono',consolas,'Courier New',monospace\"><span style=\"font-weight: bold\">{</span>\n",
       "    <span style=\"color: #008000; text-decoration-color: #008000\">'role'</span>: <span style=\"color: #008000; text-decoration-color: #008000\">'assistant'</span>,\n",
       "    <span style=\"color: #008000; text-decoration-color: #008000\">'content'</span>: <span style=\"color: #008000; text-decoration-color: #008000\">'```json\\n{\\n  \"existing_predicates\": [],\\n  \"new_predicates\": [\\n    \"GraduationCourse(x)\",\\n    </span>\n",
       "<span style=\"color: #008000; text-decoration-color: #008000\">\"DesignedAtEnd(x)\",\\n    \"CompletedLanguageRequirement(x)\",\\n    \"CompletedCreditRequirement(x)\",\\n    </span>\n",
       "<span style=\"color: #008000; text-decoration-color: #008000\">\"CanRegister(x,y)\",\\n    \"AccumulatedCredits(x,y)\",\\n    \"TotalCredits(x)\",\\n    \"CompletedTrainingProgram(x,y)\",\\n</span>\n",
       "<span style=\"color: #008000; text-decoration-color: #008000\">\"MetGraduationLanguageStandard(x)\",\\n    \"ConcurrentCourse(x,y)\",\\n    \"PrerequisiteCourse(x,y)\"\\n  ],\\n  </span>\n",
       "<span style=\"color: #008000; text-decoration-color: #008000\">\"variables\": [\\n    \"x\",\\n    \"y\",\\n    \"internship\",\\n    \"specializedProject\",\\n    \"graduationThesis\",\\n    </span>\n",
       "<span style=\"color: #008000; text-decoration-color: #008000\">\"student\"\\n  ],\\n  \"premises\": [\\n    \"∀x (GraduationCourse(x) → DesignedAtEnd(x))\",\\n    \"∀x ∀y </span>\n",
       "<span style=\"color: #008000; text-decoration-color: #008000\">((CompletedLanguageRequirement(x) ∧ CompletedCreditRequirement(x)) → CanRegister(x,y))\",\\n    \"∀x </span>\n",
       "<span style=\"color: #008000; text-decoration-color: #008000\">(AccumulatedCredits(x, 0.65 * TotalCredits(x)) → CanRegister(x, internship))\",\\n    \"∀x (AccumulatedCredits(x, 0.70</span>\n",
       "<span style=\"color: #008000; text-decoration-color: #008000\">* TotalCredits(x)) → CanRegister(x, specializedProject))\",\\n    \"∀x ((AccumulatedCredits(x, 0.85 * TotalCredits(x))</span>\n",
       "<span style=\"color: #008000; text-decoration-color: #008000\">∧ CompletedTrainingProgram(x, 0.70) ∧ MetGraduationLanguageStandard(x)) → CanRegister(x, graduationThesis))\",\\n    </span>\n",
       "<span style=\"color: #008000; text-decoration-color: #008000\">\"ConcurrentCourse(internship, specializedProject)\",\\n    \"PrerequisiteCourse(internship, graduationThesis)\",\\n    </span>\n",
       "<span style=\"color: #008000; text-decoration-color: #008000\">\"PrerequisiteCourse(specializedProject, graduationThesis)\"\\n  ],\\n  \"conclusion\": \"\"\\n}\\n```'</span>\n",
       "<span style=\"font-weight: bold\">}</span>\n",
       "</pre>\n"
      ],
      "text/plain": [
       "\u001b[1m{\u001b[0m\n",
       "    \u001b[32m'role'\u001b[0m: \u001b[32m'assistant'\u001b[0m,\n",
       "    \u001b[32m'content'\u001b[0m: \u001b[32m'```json\\n\u001b[0m\u001b[32m{\u001b[0m\u001b[32m\\n  \"existing_predicates\": \u001b[0m\u001b[32m[\u001b[0m\u001b[32m]\u001b[0m\u001b[32m,\\n  \"new_predicates\": \u001b[0m\u001b[32m[\u001b[0m\u001b[32m\\n    \"GraduationCourse\u001b[0m\u001b[32m(\u001b[0m\u001b[32mx\u001b[0m\u001b[32m)\u001b[0m\u001b[32m\",\\n    \u001b[0m\n",
       "\u001b[32m\"DesignedAtEnd\u001b[0m\u001b[32m(\u001b[0m\u001b[32mx\u001b[0m\u001b[32m)\u001b[0m\u001b[32m\",\\n    \"CompletedLanguageRequirement\u001b[0m\u001b[32m(\u001b[0m\u001b[32mx\u001b[0m\u001b[32m)\u001b[0m\u001b[32m\",\\n    \"CompletedCreditRequirement\u001b[0m\u001b[32m(\u001b[0m\u001b[32mx\u001b[0m\u001b[32m)\u001b[0m\u001b[32m\",\\n    \u001b[0m\n",
       "\u001b[32m\"CanRegister\u001b[0m\u001b[32m(\u001b[0m\u001b[32mx,y\u001b[0m\u001b[32m)\u001b[0m\u001b[32m\",\\n    \"AccumulatedCredits\u001b[0m\u001b[32m(\u001b[0m\u001b[32mx,y\u001b[0m\u001b[32m)\u001b[0m\u001b[32m\",\\n    \"TotalCredits\u001b[0m\u001b[32m(\u001b[0m\u001b[32mx\u001b[0m\u001b[32m)\u001b[0m\u001b[32m\",\\n    \"CompletedTrainingProgram\u001b[0m\u001b[32m(\u001b[0m\u001b[32mx,y\u001b[0m\u001b[32m)\u001b[0m\u001b[32m\",\\n\u001b[0m\n",
       "\u001b[32m\"MetGraduationLanguageStandard\u001b[0m\u001b[32m(\u001b[0m\u001b[32mx\u001b[0m\u001b[32m)\u001b[0m\u001b[32m\",\\n    \"ConcurrentCourse\u001b[0m\u001b[32m(\u001b[0m\u001b[32mx,y\u001b[0m\u001b[32m)\u001b[0m\u001b[32m\",\\n    \"PrerequisiteCourse\u001b[0m\u001b[32m(\u001b[0m\u001b[32mx,y\u001b[0m\u001b[32m)\u001b[0m\u001b[32m\"\\n  \u001b[0m\u001b[32m]\u001b[0m\u001b[32m,\\n  \u001b[0m\n",
       "\u001b[32m\"variables\": \u001b[0m\u001b[32m[\u001b[0m\u001b[32m\\n    \"x\",\\n    \"y\",\\n    \"internship\",\\n    \"specializedProject\",\\n    \"graduationThesis\",\\n    \u001b[0m\n",
       "\u001b[32m\"student\"\\n  \u001b[0m\u001b[32m]\u001b[0m\u001b[32m,\\n  \"premises\": \u001b[0m\u001b[32m[\u001b[0m\u001b[32m\\n    \"∀x \u001b[0m\u001b[32m(\u001b[0m\u001b[32mGraduationCourse\u001b[0m\u001b[32m(\u001b[0m\u001b[32mx\u001b[0m\u001b[32m)\u001b[0m\u001b[32m → DesignedAtEnd\u001b[0m\u001b[32m(\u001b[0m\u001b[32mx\u001b[0m\u001b[32m)\u001b[0m\u001b[32m)\u001b[0m\u001b[32m\",\\n    \"∀x ∀y \u001b[0m\n",
       "\u001b[32m(\u001b[0m\u001b[32m(\u001b[0m\u001b[32mCompletedLanguageRequirement\u001b[0m\u001b[32m(\u001b[0m\u001b[32mx\u001b[0m\u001b[32m)\u001b[0m\u001b[32m ∧ CompletedCreditRequirement\u001b[0m\u001b[32m(\u001b[0m\u001b[32mx\u001b[0m\u001b[32m)\u001b[0m\u001b[32m)\u001b[0m\u001b[32m → CanRegister\u001b[0m\u001b[32m(\u001b[0m\u001b[32mx,y\u001b[0m\u001b[32m)\u001b[0m\u001b[32m)\u001b[0m\u001b[32m\",\\n    \"∀x \u001b[0m\n",
       "\u001b[32m(\u001b[0m\u001b[32mAccumulatedCredits\u001b[0m\u001b[32m(\u001b[0m\u001b[32mx, 0.65 * TotalCredits\u001b[0m\u001b[32m(\u001b[0m\u001b[32mx\u001b[0m\u001b[32m)\u001b[0m\u001b[32m)\u001b[0m\u001b[32m → CanRegister\u001b[0m\u001b[32m(\u001b[0m\u001b[32mx, internship\u001b[0m\u001b[32m)\u001b[0m\u001b[32m)\u001b[0m\u001b[32m\",\\n    \"∀x \u001b[0m\u001b[32m(\u001b[0m\u001b[32mAccumulatedCredits\u001b[0m\u001b[32m(\u001b[0m\u001b[32mx, 0.70\u001b[0m\n",
       "\u001b[32m* TotalCredits\u001b[0m\u001b[32m(\u001b[0m\u001b[32mx\u001b[0m\u001b[32m)\u001b[0m\u001b[32m)\u001b[0m\u001b[32m → CanRegister\u001b[0m\u001b[32m(\u001b[0m\u001b[32mx, specializedProject\u001b[0m\u001b[32m)\u001b[0m\u001b[32m)\u001b[0m\u001b[32m\",\\n    \"∀x \u001b[0m\u001b[32m(\u001b[0m\u001b[32m(\u001b[0m\u001b[32mAccumulatedCredits\u001b[0m\u001b[32m(\u001b[0m\u001b[32mx, 0.85 * TotalCredits\u001b[0m\u001b[32m(\u001b[0m\u001b[32mx\u001b[0m\u001b[32m)\u001b[0m\u001b[32m)\u001b[0m\n",
       "\u001b[32m∧ CompletedTrainingProgram\u001b[0m\u001b[32m(\u001b[0m\u001b[32mx, 0.70\u001b[0m\u001b[32m)\u001b[0m\u001b[32m ∧ MetGraduationLanguageStandard\u001b[0m\u001b[32m(\u001b[0m\u001b[32mx\u001b[0m\u001b[32m)\u001b[0m\u001b[32m)\u001b[0m\u001b[32m → CanRegister\u001b[0m\u001b[32m(\u001b[0m\u001b[32mx, graduationThesis\u001b[0m\u001b[32m)\u001b[0m\u001b[32m)\u001b[0m\u001b[32m\",\\n    \u001b[0m\n",
       "\u001b[32m\"ConcurrentCourse\u001b[0m\u001b[32m(\u001b[0m\u001b[32minternship, specializedProject\u001b[0m\u001b[32m)\u001b[0m\u001b[32m\",\\n    \"PrerequisiteCourse\u001b[0m\u001b[32m(\u001b[0m\u001b[32minternship, graduationThesis\u001b[0m\u001b[32m)\u001b[0m\u001b[32m\",\\n    \u001b[0m\n",
       "\u001b[32m\"PrerequisiteCourse\u001b[0m\u001b[32m(\u001b[0m\u001b[32mspecializedProject, graduationThesis\u001b[0m\u001b[32m)\u001b[0m\u001b[32m\"\\n  \u001b[0m\u001b[32m]\u001b[0m\u001b[32m,\\n  \"conclusion\": \"\"\\n\u001b[0m\u001b[32m}\u001b[0m\u001b[32m\\n```'\u001b[0m\n",
       "\u001b[1m}\u001b[0m\n"
      ]
     },
     "metadata": {},
     "output_type": "display_data"
    },
    {
     "data": {
      "text/html": [
       "<pre style=\"white-space:pre;overflow-x:auto;line-height:normal;font-family:Menlo,'DejaVu Sans Mono',consolas,'Courier New',monospace\"><span style=\"font-weight: bold\">{</span>\n",
       "    <span style=\"color: #008000; text-decoration-color: #008000\">'role'</span>: <span style=\"color: #008000; text-decoration-color: #008000\">'user'</span>,\n",
       "    <span style=\"color: #008000; text-decoration-color: #008000\">'content'</span>: <span style=\"color: #008000; text-decoration-color: #008000\">'There are some invalid premises:\\n\\n- ∀x (AccumulatedCredits(x, 0.65 * TotalCredits(x)) → </span>\n",
       "<span style=\"color: #008000; text-decoration-color: #008000\">CanRegister(x, internship))\\n- ∀x (AccumulatedCredits(x, 0.70 * TotalCredits(x)) → CanRegister(x, </span>\n",
       "<span style=\"color: #008000; text-decoration-color: #008000\">specializedProject))\\n- ∀x ((AccumulatedCredits(x, 0.85 * TotalCredits(x)) ∧ CompletedTrainingProgram(x, 0.70) ∧ </span>\n",
       "<span style=\"color: #008000; text-decoration-color: #008000\">MetGraduationLanguageStandard(x)) → CanRegister(x, graduationThesis))\\n\\nPlease check, correct them and provide a </span>\n",
       "<span style=\"color: #008000; text-decoration-color: #008000\">new translation in the correct format (no further explanation needed). You can redefine the predicates if needed. </span>\n",
       "<span style=\"color: #008000; text-decoration-color: #008000\">Some tips:\\n* In FOL logic, there are no mathematic operators like &lt;, &gt;, =, etc. Define predicates for them </span>\n",
       "<span style=\"color: #008000; text-decoration-color: #008000\">instead. For example, `Joe has age less than 30 years old` can be translated as `LessThan30YearsOld(joe)`, etc.\\n* </span>\n",
       "<span style=\"color: #008000; text-decoration-color: #008000\">Always check for number of parentheses and ensure each open parenthesis should have a corresponding close </span>\n",
       "<span style=\"color: #008000; text-decoration-color: #008000\">parenthesis.\\n* Nested predicates e.g., `P1(P2(x))` are invalid. Instead, you should define new variable and/or </span>\n",
       "<span style=\"color: #008000; text-decoration-color: #008000\">predicate to represent the natural language statement.\\n* Please use `→` only, and do NOT use the backward version </span>\n",
       "<span style=\"color: #008000; text-decoration-color: #008000\">`←` for implication.'</span>\n",
       "<span style=\"font-weight: bold\">}</span>\n",
       "</pre>\n"
      ],
      "text/plain": [
       "\u001b[1m{\u001b[0m\n",
       "    \u001b[32m'role'\u001b[0m: \u001b[32m'user'\u001b[0m,\n",
       "    \u001b[32m'content'\u001b[0m: \u001b[32m'There are some invalid premises:\\n\\n- ∀x \u001b[0m\u001b[32m(\u001b[0m\u001b[32mAccumulatedCredits\u001b[0m\u001b[32m(\u001b[0m\u001b[32mx, 0.65 * TotalCredits\u001b[0m\u001b[32m(\u001b[0m\u001b[32mx\u001b[0m\u001b[32m)\u001b[0m\u001b[32m)\u001b[0m\u001b[32m → \u001b[0m\n",
       "\u001b[32mCanRegister\u001b[0m\u001b[32m(\u001b[0m\u001b[32mx, internship\u001b[0m\u001b[32m)\u001b[0m\u001b[32m)\u001b[0m\u001b[32m\\n- ∀x \u001b[0m\u001b[32m(\u001b[0m\u001b[32mAccumulatedCredits\u001b[0m\u001b[32m(\u001b[0m\u001b[32mx, 0.70 * TotalCredits\u001b[0m\u001b[32m(\u001b[0m\u001b[32mx\u001b[0m\u001b[32m)\u001b[0m\u001b[32m)\u001b[0m\u001b[32m → CanRegister\u001b[0m\u001b[32m(\u001b[0m\u001b[32mx, \u001b[0m\n",
       "\u001b[32mspecializedProject\u001b[0m\u001b[32m)\u001b[0m\u001b[32m)\u001b[0m\u001b[32m\\n- ∀x \u001b[0m\u001b[32m(\u001b[0m\u001b[32m(\u001b[0m\u001b[32mAccumulatedCredits\u001b[0m\u001b[32m(\u001b[0m\u001b[32mx, 0.85 * TotalCredits\u001b[0m\u001b[32m(\u001b[0m\u001b[32mx\u001b[0m\u001b[32m)\u001b[0m\u001b[32m)\u001b[0m\u001b[32m ∧ CompletedTrainingProgram\u001b[0m\u001b[32m(\u001b[0m\u001b[32mx, 0.70\u001b[0m\u001b[32m)\u001b[0m\u001b[32m ∧ \u001b[0m\n",
       "\u001b[32mMetGraduationLanguageStandard\u001b[0m\u001b[32m(\u001b[0m\u001b[32mx\u001b[0m\u001b[32m)\u001b[0m\u001b[32m)\u001b[0m\u001b[32m → CanRegister\u001b[0m\u001b[32m(\u001b[0m\u001b[32mx, graduationThesis\u001b[0m\u001b[32m)\u001b[0m\u001b[32m)\u001b[0m\u001b[32m\\n\\nPlease check, correct them and provide a \u001b[0m\n",
       "\u001b[32mnew translation in the correct format \u001b[0m\u001b[32m(\u001b[0m\u001b[32mno further explanation needed\u001b[0m\u001b[32m)\u001b[0m\u001b[32m. You can redefine the predicates if needed. \u001b[0m\n",
       "\u001b[32mSome tips:\\n* In FOL logic, there are no mathematic operators like \u001b[0m\u001b[32m<\u001b[0m\u001b[32m, \u001b[0m\u001b[32m>\u001b[0m\u001b[32m, =, etc. Define predicates for them \u001b[0m\n",
       "\u001b[32minstead. For example, `Joe has age less than 30 years old` can be translated as `LessThan30YearsOld\u001b[0m\u001b[32m(\u001b[0m\u001b[32mjoe\u001b[0m\u001b[32m)\u001b[0m\u001b[32m`, etc.\\n* \u001b[0m\n",
       "\u001b[32mAlways check for number of parentheses and ensure each open parenthesis should have a corresponding close \u001b[0m\n",
       "\u001b[32mparenthesis.\\n* Nested predicates e.g., `P1\u001b[0m\u001b[32m(\u001b[0m\u001b[32mP2\u001b[0m\u001b[32m(\u001b[0m\u001b[32mx\u001b[0m\u001b[32m)\u001b[0m\u001b[32m)\u001b[0m\u001b[32m` are invalid. Instead, you should define new variable and/or \u001b[0m\n",
       "\u001b[32mpredicate to represent the natural language statement.\\n* Please use `→` only, and do NOT use the backward version \u001b[0m\n",
       "\u001b[32m`←` for implication.'\u001b[0m\n",
       "\u001b[1m}\u001b[0m\n"
      ]
     },
     "metadata": {},
     "output_type": "display_data"
    },
    {
     "data": {
      "text/html": [
       "<pre style=\"white-space:pre;overflow-x:auto;line-height:normal;font-family:Menlo,'DejaVu Sans Mono',consolas,'Courier New',monospace\"><span style=\"font-weight: bold\">{</span>\n",
       "    <span style=\"color: #008000; text-decoration-color: #008000\">'role'</span>: <span style=\"color: #008000; text-decoration-color: #008000\">'assistant'</span>,\n",
       "    <span style=\"color: #008000; text-decoration-color: #008000\">'content'</span>: <span style=\"color: #008000; text-decoration-color: #008000\">'```json\\n{\\n  \"existing_predicates\": [],\\n  \"new_predicates\": [\\n    \"GraduationCourse(x)\",\\n    </span>\n",
       "<span style=\"color: #008000; text-decoration-color: #008000\">\"DesignedAtEnd(x)\",\\n    \"CompletedLanguageRequirement(x)\",\\n    \"CompletedCreditRequirement(x)\",\\n    </span>\n",
       "<span style=\"color: #008000; text-decoration-color: #008000\">\"CanRegister(x,y)\",\\n    \"AccumulatedCreditsAtLeast65Percent(x)\",\\n    \"AccumulatedCreditsAtLeast70Percent(x)\",\\n  </span>\n",
       "<span style=\"color: #008000; text-decoration-color: #008000\">\"AccumulatedCreditsAtLeast85Percent(x)\",\\n    \"CompletedTrainingProgramAtLeast70Percent(x)\",\\n    </span>\n",
       "<span style=\"color: #008000; text-decoration-color: #008000\">\"MetGraduationLanguageStandard(x)\",\\n    \"ConcurrentCourse(x,y)\",\\n    \"PrerequisiteCourse(x,y)\"\\n  ],\\n  </span>\n",
       "<span style=\"color: #008000; text-decoration-color: #008000\">\"variables\": [\\n    \"x\",\\n    \"y\",\\n    \"internship\",\\n    \"specializedProject\",\\n    \"graduationThesis\"\\n  ],\\n  </span>\n",
       "<span style=\"color: #008000; text-decoration-color: #008000\">\"premises\": [\\n    \"∀x (GraduationCourse(x) → DesignedAtEnd(x))\",\\n    \"∀x ∀y ((CompletedLanguageRequirement(x) ∧ </span>\n",
       "<span style=\"color: #008000; text-decoration-color: #008000\">CompletedCreditRequirement(x)) → CanRegister(x,y))\",\\n    \"∀x (AccumulatedCreditsAtLeast65Percent(x) → </span>\n",
       "<span style=\"color: #008000; text-decoration-color: #008000\">CanRegister(x, internship))\",\\n    \"∀x (AccumulatedCreditsAtLeast70Percent(x) → CanRegister(x, </span>\n",
       "<span style=\"color: #008000; text-decoration-color: #008000\">specializedProject))\",\\n    \"∀x ((AccumulatedCreditsAtLeast85Percent(x) ∧ </span>\n",
       "<span style=\"color: #008000; text-decoration-color: #008000\">CompletedTrainingProgramAtLeast70Percent(x) ∧ MetGraduationLanguageStandard(x)) → CanRegister(x, </span>\n",
       "<span style=\"color: #008000; text-decoration-color: #008000\">graduationThesis))\",\\n    \"ConcurrentCourse(internship, specializedProject)\",\\n    \"PrerequisiteCourse(internship, </span>\n",
       "<span style=\"color: #008000; text-decoration-color: #008000\">graduationThesis)\",\\n    \"PrerequisiteCourse(specializedProject, graduationThesis)\"\\n  ],\\n  \"conclusion\": </span>\n",
       "<span style=\"color: #008000; text-decoration-color: #008000\">\"\"\\n}\\n```'</span>\n",
       "<span style=\"font-weight: bold\">}</span>\n",
       "</pre>\n"
      ],
      "text/plain": [
       "\u001b[1m{\u001b[0m\n",
       "    \u001b[32m'role'\u001b[0m: \u001b[32m'assistant'\u001b[0m,\n",
       "    \u001b[32m'content'\u001b[0m: \u001b[32m'```json\\n\u001b[0m\u001b[32m{\u001b[0m\u001b[32m\\n  \"existing_predicates\": \u001b[0m\u001b[32m[\u001b[0m\u001b[32m]\u001b[0m\u001b[32m,\\n  \"new_predicates\": \u001b[0m\u001b[32m[\u001b[0m\u001b[32m\\n    \"GraduationCourse\u001b[0m\u001b[32m(\u001b[0m\u001b[32mx\u001b[0m\u001b[32m)\u001b[0m\u001b[32m\",\\n    \u001b[0m\n",
       "\u001b[32m\"DesignedAtEnd\u001b[0m\u001b[32m(\u001b[0m\u001b[32mx\u001b[0m\u001b[32m)\u001b[0m\u001b[32m\",\\n    \"CompletedLanguageRequirement\u001b[0m\u001b[32m(\u001b[0m\u001b[32mx\u001b[0m\u001b[32m)\u001b[0m\u001b[32m\",\\n    \"CompletedCreditRequirement\u001b[0m\u001b[32m(\u001b[0m\u001b[32mx\u001b[0m\u001b[32m)\u001b[0m\u001b[32m\",\\n    \u001b[0m\n",
       "\u001b[32m\"CanRegister\u001b[0m\u001b[32m(\u001b[0m\u001b[32mx,y\u001b[0m\u001b[32m)\u001b[0m\u001b[32m\",\\n    \"AccumulatedCreditsAtLeast65Percent\u001b[0m\u001b[32m(\u001b[0m\u001b[32mx\u001b[0m\u001b[32m)\u001b[0m\u001b[32m\",\\n    \"AccumulatedCreditsAtLeast70Percent\u001b[0m\u001b[32m(\u001b[0m\u001b[32mx\u001b[0m\u001b[32m)\u001b[0m\u001b[32m\",\\n  \u001b[0m\n",
       "\u001b[32m\"AccumulatedCreditsAtLeast85Percent\u001b[0m\u001b[32m(\u001b[0m\u001b[32mx\u001b[0m\u001b[32m)\u001b[0m\u001b[32m\",\\n    \"CompletedTrainingProgramAtLeast70Percent\u001b[0m\u001b[32m(\u001b[0m\u001b[32mx\u001b[0m\u001b[32m)\u001b[0m\u001b[32m\",\\n    \u001b[0m\n",
       "\u001b[32m\"MetGraduationLanguageStandard\u001b[0m\u001b[32m(\u001b[0m\u001b[32mx\u001b[0m\u001b[32m)\u001b[0m\u001b[32m\",\\n    \"ConcurrentCourse\u001b[0m\u001b[32m(\u001b[0m\u001b[32mx,y\u001b[0m\u001b[32m)\u001b[0m\u001b[32m\",\\n    \"PrerequisiteCourse\u001b[0m\u001b[32m(\u001b[0m\u001b[32mx,y\u001b[0m\u001b[32m)\u001b[0m\u001b[32m\"\\n  \u001b[0m\u001b[32m]\u001b[0m\u001b[32m,\\n  \u001b[0m\n",
       "\u001b[32m\"variables\": \u001b[0m\u001b[32m[\u001b[0m\u001b[32m\\n    \"x\",\\n    \"y\",\\n    \"internship\",\\n    \"specializedProject\",\\n    \"graduationThesis\"\\n  \u001b[0m\u001b[32m]\u001b[0m\u001b[32m,\\n  \u001b[0m\n",
       "\u001b[32m\"premises\": \u001b[0m\u001b[32m[\u001b[0m\u001b[32m\\n    \"∀x \u001b[0m\u001b[32m(\u001b[0m\u001b[32mGraduationCourse\u001b[0m\u001b[32m(\u001b[0m\u001b[32mx\u001b[0m\u001b[32m)\u001b[0m\u001b[32m → DesignedAtEnd\u001b[0m\u001b[32m(\u001b[0m\u001b[32mx\u001b[0m\u001b[32m)\u001b[0m\u001b[32m)\u001b[0m\u001b[32m\",\\n    \"∀x ∀y \u001b[0m\u001b[32m(\u001b[0m\u001b[32m(\u001b[0m\u001b[32mCompletedLanguageRequirement\u001b[0m\u001b[32m(\u001b[0m\u001b[32mx\u001b[0m\u001b[32m)\u001b[0m\u001b[32m ∧ \u001b[0m\n",
       "\u001b[32mCompletedCreditRequirement\u001b[0m\u001b[32m(\u001b[0m\u001b[32mx\u001b[0m\u001b[32m)\u001b[0m\u001b[32m)\u001b[0m\u001b[32m → CanRegister\u001b[0m\u001b[32m(\u001b[0m\u001b[32mx,y\u001b[0m\u001b[32m)\u001b[0m\u001b[32m)\u001b[0m\u001b[32m\",\\n    \"∀x \u001b[0m\u001b[32m(\u001b[0m\u001b[32mAccumulatedCreditsAtLeast65Percent\u001b[0m\u001b[32m(\u001b[0m\u001b[32mx\u001b[0m\u001b[32m)\u001b[0m\u001b[32m → \u001b[0m\n",
       "\u001b[32mCanRegister\u001b[0m\u001b[32m(\u001b[0m\u001b[32mx, internship\u001b[0m\u001b[32m)\u001b[0m\u001b[32m)\u001b[0m\u001b[32m\",\\n    \"∀x \u001b[0m\u001b[32m(\u001b[0m\u001b[32mAccumulatedCreditsAtLeast70Percent\u001b[0m\u001b[32m(\u001b[0m\u001b[32mx\u001b[0m\u001b[32m)\u001b[0m\u001b[32m → CanRegister\u001b[0m\u001b[32m(\u001b[0m\u001b[32mx, \u001b[0m\n",
       "\u001b[32mspecializedProject\u001b[0m\u001b[32m)\u001b[0m\u001b[32m)\u001b[0m\u001b[32m\",\\n    \"∀x \u001b[0m\u001b[32m(\u001b[0m\u001b[32m(\u001b[0m\u001b[32mAccumulatedCreditsAtLeast85Percent\u001b[0m\u001b[32m(\u001b[0m\u001b[32mx\u001b[0m\u001b[32m)\u001b[0m\u001b[32m ∧ \u001b[0m\n",
       "\u001b[32mCompletedTrainingProgramAtLeast70Percent\u001b[0m\u001b[32m(\u001b[0m\u001b[32mx\u001b[0m\u001b[32m)\u001b[0m\u001b[32m ∧ MetGraduationLanguageStandard\u001b[0m\u001b[32m(\u001b[0m\u001b[32mx\u001b[0m\u001b[32m)\u001b[0m\u001b[32m)\u001b[0m\u001b[32m → CanRegister\u001b[0m\u001b[32m(\u001b[0m\u001b[32mx, \u001b[0m\n",
       "\u001b[32mgraduationThesis\u001b[0m\u001b[32m)\u001b[0m\u001b[32m)\u001b[0m\u001b[32m\",\\n    \"ConcurrentCourse\u001b[0m\u001b[32m(\u001b[0m\u001b[32minternship, specializedProject\u001b[0m\u001b[32m)\u001b[0m\u001b[32m\",\\n    \"PrerequisiteCourse\u001b[0m\u001b[32m(\u001b[0m\u001b[32minternship, \u001b[0m\n",
       "\u001b[32mgraduationThesis\u001b[0m\u001b[32m)\u001b[0m\u001b[32m\",\\n    \"PrerequisiteCourse\u001b[0m\u001b[32m(\u001b[0m\u001b[32mspecializedProject, graduationThesis\u001b[0m\u001b[32m)\u001b[0m\u001b[32m\"\\n  \u001b[0m\u001b[32m]\u001b[0m\u001b[32m,\\n  \"conclusion\": \u001b[0m\n",
       "\u001b[32m\"\"\\n\u001b[0m\u001b[32m}\u001b[0m\u001b[32m\\n```'\u001b[0m\n",
       "\u001b[1m}\u001b[0m\n"
      ]
     },
     "metadata": {},
     "output_type": "display_data"
    }
   ],
   "source": [
    "for nl_str in all_quy_che:\n",
    "    messages = []\n",
    "    \n",
    "    trans_prompt = trans_prompt_template(\n",
    "        nl_str=nl_str,\n",
    "        existing_predicates_str=[],\n",
    "        examples_str=TRANSLATE_EXAMPLES_V1\n",
    "    )\n",
    "    messages.append({\n",
    "        \"role\": \"user\",\n",
    "        \"content\": trans_prompt\n",
    "    })\n",
    "    rprint(messages[-1]) # FIXME: delete this line\n",
    "    invalid_premises = []\n",
    "    \n",
    "    while True:\n",
    "        response = completion(\n",
    "            model=os.environ['LITELLM_MODEL'],\n",
    "            messages=messages,\n",
    "            api_key=os.environ['LITELLM_API_KEY'], \n",
    "            base_url=os.environ['LITELLM_BASE_URL'],\n",
    "            # temperature=0.0,\n",
    "            # top_p=0.7,\n",
    "            # max_tokens=8192,\n",
    "            stream=False\n",
    "        )\n",
    "\n",
    "        result = response.choices[0].message.content\n",
    "        messages.append({\n",
    "            \"role\": \"assistant\",\n",
    "            \"content\": result\n",
    "        })\n",
    "        rprint(messages[-1]) # FIXME: delete this line\n",
    "        \n",
    "        json_str = result.strip('```').strip()\n",
    "        if json_str.startswith('json'):\n",
    "            json_str = json_str[4:].strip()\n",
    "        parsed_json = json.loads(json_str)\n",
    "        \n",
    "        invalid_premises = [] # Reset invalid_premises\n",
    "        for premise in parsed_json['premises']:\n",
    "            if not is_syntactically_valid_with_timeout(premise):\n",
    "                invalid_premises.append(premise)\n",
    "        \n",
    "        if len(invalid_premises) > 0:\n",
    "            messages.append({\n",
    "                \"role\": \"user\",\n",
    "                \"content\": correct_prompt_template(invalid_premises_str='- ' + '\\n- '.join(invalid_premises))\n",
    "            })\n",
    "            rprint(messages[-1]) # FIXME: delete this line\n",
    "        else:\n",
    "            all_quy_che_fols.append(parsed_json)\n",
    "            break\n",
    "    "
   ]
  },
  {
   "cell_type": "code",
   "execution_count": null,
   "metadata": {},
   "outputs": [],
   "source": [
    "for i, quy_che_fol in enumerate(all_quy_che_fols):\n",
    "    rprint(f\"Quy chế {i+1}:\")\n",
    "    rprint(quy_che_fol)"
   ]
  }
 ],
 "metadata": {
  "kernelspec": {
   "display_name": "nl2fol-local",
   "language": "python",
   "name": "python3"
  },
  "language_info": {
   "codemirror_mode": {
    "name": "ipython",
    "version": 3
   },
   "file_extension": ".py",
   "mimetype": "text/x-python",
   "name": "python",
   "nbconvert_exporter": "python",
   "pygments_lexer": "ipython3",
   "version": "3.8.19"
  }
 },
 "nbformat": 4,
 "nbformat_minor": 2
}
